{
 "cells": [
  {
   "cell_type": "markdown",
   "metadata": {},
   "source": [
    "# PROBLEMAS DIVERSOS"
   ]
  },
  {
   "cell_type": "markdown",
   "metadata": {},
   "source": [
    "<h3>1.</h3>\n",
    "Realizar una función que permita la carga de n alumnos. Por cada alumno se deberá preguntar el nombre completo y permitir el ingreso de 3 notas. Las notas deben estar comprendidas entre 0 y 10. Devolver el listado de alumnos."
   ]
  },
  {
   "cell_type": "code",
   "execution_count": 2,
   "metadata": {},
   "outputs": [],
   "source": [
    "def ingresenota():\n",
    "    try:\n",
    "        nota=float(input(\"ingrese nota entre 0 y 10: \"))\n",
    "        if nota >=0 and nota<=10:\n",
    "            return nota\n",
    "        else:\n",
    "            print(\"introcusca notas entre 0 y 10\")\n",
    "            ingresenota()\n",
    "    except:\n",
    "        print(\"introduce un número\")\n",
    "        ingresenota()\n",
    "\n",
    "try:\n",
    "    n=int(input(\"ingresa el número de alumnos: \"))\n",
    "    \n",
    "    datos=list()\n",
    "    for i in range(1,n+1):\n",
    "        registro={}\n",
    "        registro[\"nombre\"]=input(\"nombre completo {}: \".format(i))\n",
    "        registro[\"nota1\"]=ingresenota()\n",
    "        registro[\"nota2\"]=ingresenota()\n",
    "        registro[\"nota3\"]=ingresenota()\n",
    "        datos.append(registro)\n",
    "    print(datos)\n",
    "except:\n",
    "    print(\"ingrese un numero\")\n",
    "\n",
    "            \n",
    "    \n",
    "\n",
    "def LISTAR(lista):\n",
    "    for i in lista:\n",
    "        print(\"-------Alumno {}-------\".format(lista.index(i)+1))\n",
    "        print(\"\"\"\n",
    "        Nombre: {}\n",
    "        nota1: {}\n",
    "        nota2: {}\n",
    "        nota3: {}\n",
    "        \"\"\". format(i[\"nombre\"], i[\"nota1\"], i[\"nota2\"], i[\"nota3\"]))\n",
    "LISTAR(datos)"
   ]
  },
  {
   "cell_type": "code",
   "execution_count": null,
   "metadata": {},
   "outputs": [],
   "source": []
  },
  {
   "cell_type": "markdown",
   "metadata": {},
   "source": [
    "### 2.\n",
    "Definir una función que dado un listado de alumnos evalúe cuántos aprobaron y cuántos desaprobaron, teniendo en cuenta que se aprueba con 4. La nota será el promedio de las 3 notas para cada alumno."
   ]
  },
  {
   "cell_type": "code",
   "execution_count": 18,
   "metadata": {},
   "outputs": [
    {
     "name": "stdout",
     "output_type": "stream",
     "text": [
      "\n",
      "        --------Alumno 1----------\n",
      "        Nombre: antony\n",
      "        Situación: Aprobado\n",
      "\n",
      "        --------Alumno 2----------\n",
      "        Nombre: Ruben\n",
      "        Situación: Aprobado\n",
      "\n",
      "        --------Alumno 3----------\n",
      "        Nombre: Nose\n",
      "        Situación: Aprobado\n"
     ]
    }
   ],
   "source": [
    "def promedio(datos):\n",
    "    prom=float()\n",
    "    for i in datos:\n",
    "        prom=round((i.get(\"nota1\")+i.get(\"nota2\")+i.get(\"nota3\"))/3,2)\n",
    "        i[\"promedio\"]=prom    \n",
    "promedio(datos)\n",
    "\n",
    "for i in datos:\n",
    "    situacion=\"\"\n",
    "    if i[\"promedio\"]<4:\n",
    "        situacion+=\"Desaprobado\"\n",
    "        print(\"\"\"\n",
    "        --------Alumno {}----------\n",
    "        Nombre: {}\n",
    "        Situación: {}\"\"\".format(datos.index(i)+1, i.get(\"nombre\"), situacion))\n",
    "    else:\n",
    "        situacion+=\"Aprobado\"\n",
    "        print(\"\"\"\n",
    "        --------Alumno {}----------\n",
    "        Nombre: {}\n",
    "        Situación: {}\"\"\".format(datos.index(i)+1, i.get(\"nombre\"), situacion))\n"
   ]
  },
  {
   "cell_type": "markdown",
   "metadata": {},
   "source": [
    "### 3.\n",
    "Informar el promedio de nota del curso total."
   ]
  },
  {
   "cell_type": "code",
   "execution_count": 19,
   "metadata": {},
   "outputs": [
    {
     "name": "stdout",
     "output_type": "stream",
     "text": [
      "\n",
      "        --------Alumno 1----------\n",
      "        Nombre: antony\n",
      "        promedio: 8.0\n",
      "\n",
      "        --------Alumno 2----------\n",
      "        Nombre: Ruben\n",
      "        promedio: 9.0\n",
      "\n",
      "        --------Alumno 3----------\n",
      "        Nombre: Nose\n",
      "        promedio: 6.67\n"
     ]
    }
   ],
   "source": [
    "for i in datos:\n",
    "    print(\"\"\"\n",
    "        --------Alumno {}----------\n",
    "        Nombre: {}\n",
    "        promedio: {}\"\"\".format(datos.index(i)+1, i.get(\"nombre\"), i.get(\"promedio\")))"
   ]
  },
  {
   "cell_type": "code",
   "execution_count": null,
   "metadata": {},
   "outputs": [],
   "source": []
  },
  {
   "cell_type": "markdown",
   "metadata": {},
   "source": [
    "### 4.\n",
    "Realizar una función que indique quién tuvo el promedio más alto y quién tuvo la nota promedio más baja."
   ]
  },
  {
   "cell_type": "code",
   "execution_count": 28,
   "metadata": {},
   "outputs": [],
   "source": [
    "def maximo(datos):\n",
    "    maximo=[]\n",
    "    for i in datos:\n",
    "        maximo.append(i.get(\"promedio\"))\n",
    "    m=float()\n",
    "    ind=float()\n",
    "    m=max(maximo)\n",
    "    ind=maximo.index(m)\n",
    "    print(\"\"\"\n",
    "    promedio más alto obtuvo: \"\"\", datos[ind].get(\"nombre\"))\n",
    "maximo(datos)\n",
    "\n",
    "def minimo(datos):\n",
    "    minimo=[]\n",
    "    for i in datos:\n",
    "        minimo.append(i.get(\"promedio\"))\n",
    "    m=float()\n",
    "    ind=float()\n",
    "    m=min(minimo)\n",
    "    ind=minimo.index(m)\n",
    "    print(\"\"\"\n",
    "    promedio más baja obtuvo: \"\"\", datos[ind].get(\"nombre\"))\n",
    "minimo(datos)"
   ]
  },
  {
   "cell_type": "code",
   "execution_count": null,
   "metadata": {},
   "outputs": [],
   "source": []
  },
  {
   "cell_type": "markdown",
   "metadata": {},
   "source": [
    "### 5.\n",
    "Realizar una función que permita buscar un alumno por nombre, siendo el nombre completo o parcial, y devuelva una lista con los n alumnos que concuerden con ese nombre junto con todos sus datos, incluido el promedio de sus notas."
   ]
  },
  {
   "cell_type": "code",
   "execution_count": 47,
   "metadata": {},
   "outputs": [
    {
     "name": "stdin",
     "output_type": "stream",
     "text": [
      "Nombre para buscar:  nose\n"
     ]
    },
    {
     "name": "stdout",
     "output_type": "stream",
     "text": [
      "\n",
      "                    Nombre: Nose\n",
      "                    nota1: 7.0\n",
      "                    nota2: 5.0\n",
      "                    nota3: 8.0\n",
      "                    promedio: 6.67\n",
      "                    \n"
     ]
    }
   ],
   "source": [
    "def buscar(datos):\n",
    "    nombre=input(\"Nombre para buscar: \")\n",
    "    m=[]\n",
    "    for i in datos:\n",
    "        m=[]\n",
    "        m=[n for n in (i.get(\"nombre\")).split(\" \")]\n",
    "        n=[a for a in nombre.split(\" \")]\n",
    "        for k in m:\n",
    "            for j in n:\n",
    "                if j.lower()==k.lower(): \n",
    "                    ind=float()\n",
    "                    ind=datos.index(i)\n",
    "                    print(\"\"\"\n",
    "                    Nombre: {}\n",
    "                    nota1: {}\n",
    "                    nota2: {}\n",
    "                    nota3: {}\n",
    "                    promedio: {}\n",
    "                    \"\"\". format(i[\"nombre\"], i[\"nota1\"], i[\"nota2\"], i[\"nota3\"], i[\"promedio\"]))\n",
    "buscar(datos)"
   ]
  },
  {
   "cell_type": "code",
   "execution_count": 40,
   "metadata": {},
   "outputs": [
    {
     "data": {
      "text/plain": [
       "['antony', 'huachaca', 'muelle']"
      ]
     },
     "execution_count": 40,
     "metadata": {},
     "output_type": "execute_result"
    }
   ],
   "source": []
  },
  {
   "cell_type": "code",
   "execution_count": null,
   "metadata": {},
   "outputs": [],
   "source": []
  }
 ],
 "metadata": {
  "kernelspec": {
   "display_name": "Python 3",
   "language": "python",
   "name": "python3"
  },
  "language_info": {
   "codemirror_mode": {
    "name": "ipython",
    "version": 3
   },
   "file_extension": ".py",
   "mimetype": "text/x-python",
   "name": "python",
   "nbconvert_exporter": "python",
   "pygments_lexer": "ipython3",
   "version": "3.8.5"
  }
 },
 "nbformat": 4,
 "nbformat_minor": 4
}
