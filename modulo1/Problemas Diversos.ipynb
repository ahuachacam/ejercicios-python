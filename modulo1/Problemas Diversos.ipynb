{
 "cells": [
  {
   "cell_type": "markdown",
   "metadata": {},
   "source": [
    "# PROBLEMAS DIVERSOS"
   ]
  },
  {
   "cell_type": "markdown",
   "metadata": {},
   "source": [
    "<h3>1.</h3>\n",
    "Imagina que acabas de abrir una nueva cuenta de ahorros que te ofrece el 4% de interés al año. Estos ahorros debido a intereses, que no se cobran hasta finales de año, se te añaden al balance final de tu cuenta de ahorros. Escribir un programa que comience leyendo la cantidad de dinero depositada en la cuenta de ahorros, introducida por el usuario. Después el programa debe calcular y mostrar por pantalla la cantidad de ahorros tras el primer, segundo y tercer años. Redondear cada cantidad a dos decimales."
   ]
  },
  {
   "cell_type": "code",
   "execution_count": 9,
   "metadata": {},
   "outputs": [],
   "source": [
    "cant=float(input(\"ingresa la cantidad depositada\"))\n",
    "\n",
    "cant=round(cant*1.04,2)\n",
    "print(\"cantidad de ahorros tras el primer año:\",cant)\n",
    "\n",
    "cant=round(cant*1.04,2)\n",
    "print(\"cantidad de ahorros tras el segundo año:\",cant)\n",
    "\n",
    "cant=round(cant*1.04,2)\n",
    "print(\"cantidad de ahorros tras el tercer año:\",cant)"
   ]
  },
  {
   "cell_type": "markdown",
   "metadata": {},
   "source": [
    "### 2.\n",
    "Escriba un programa que pida los coeficientes de una ecuación de segundo grado <code>(a x² + b x + c = 0)</code> y escriba la solución.\n",
    "\n",
    "Se recuerda que una ecuación de segundo grado puede no tener solución, tener una solución única, tener dos soluciones o que todos los números sean solución."
   ]
  },
  {
   "cell_type": "markdown",
   "metadata": {},
   "source": [
    "<img src='https://i.pinimg.com/originals/d3/f7/01/d3f701528ad56ce0f5a98d7c91722fd7.png'>"
   ]
  },
  {
   "cell_type": "markdown",
   "metadata": {},
   "source": [
    "Su programa debe indicar:\n",
    "- En caso la ecuación cuadrática tenga solución real, su programa debe brindar la solución\n",
    "- En caso su ecuación no tenga solución real, su programa debe brindar un mensaje que diga \"Ecuación no presenta solución real\""
   ]
  },
  {
   "cell_type": "code",
   "execution_count": 2,
   "metadata": {},
   "outputs": [],
   "source": [
    "a=float(input(\"ingrese el coficiente cuadratico: \"))\n",
    "b=float(input(\"ingrese el 2do coficiente lineal: \"))\n",
    "c=float(input(\"ingrese el 3er coficiente independiente: \"))\n",
    "\n",
    "try:\n",
    "    R=b**2-4*a*c\n",
    "\n",
    "    if R>0:\n",
    "        X1=round((-b-(R)**0.5)/(2*a),2)\n",
    "        X2=round((-b+(R)**0.5)/(2*a),2)\n",
    "        print(\"\"\"\n",
    "        Primera raiz: {}\n",
    "        Segunda raiz: {}\"\"\".format(X1,X2))\n",
    "    elif R==0:\n",
    "        print(\"\"\"\n",
    "        Raiz Unica: {}\n",
    "        \"\"\".format(X1))\n",
    "    else:\n",
    "        print(\"Ecuación no presenta solución real\")\n",
    "except:\n",
    "    if a==0:\n",
    "        print(\"No es un ecuacion de segundo grado\")"
   ]
  },
  {
   "cell_type": "code",
   "execution_count": null,
   "metadata": {},
   "outputs": [],
   "source": []
  }
 ],
 "metadata": {
  "kernelspec": {
   "display_name": "Python 3",
   "language": "python",
   "name": "python3"
  },
  "language_info": {
   "codemirror_mode": {
    "name": "ipython",
    "version": 3
   },
   "file_extension": ".py",
   "mimetype": "text/x-python",
   "name": "python",
   "nbconvert_exporter": "python",
   "pygments_lexer": "ipython3",
   "version": "3.8.5"
  }
 },
 "nbformat": 4,
 "nbformat_minor": 4
}
